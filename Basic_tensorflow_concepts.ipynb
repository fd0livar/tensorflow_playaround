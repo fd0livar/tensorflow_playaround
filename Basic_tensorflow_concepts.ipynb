{
 "cells": [
  {
   "cell_type": "markdown",
   "metadata": {},
   "source": [
    "In Tensorflow, everything is tensor-related.  \n",
    "You have **tensors**, **opeations**, **graphs** and **sessions**. These are groups in increasing \"order\".  \n",
    "**Tensors** are arrays, either numbers or strings, of any order (dimensionality).\n",
    "**Operations** act over **tensors**. They create, destroy, manipulate the tensors.  Even when defining a constant tensor, you need an operation for that. \n",
    "```python\n",
    "x = tf.constant(5.2)\n",
    "y = tf.Variable([5])\n",
    "```\n",
    "Then, you have the **graphs**, which are representations of tensors (edge) and operations (nodes). \n",
    "Finally, the graphs must run inside a **session**, for example:\n",
    "\n",
    "```python\n",
    "with tf.Session() as sess:\n",
    "    initialization = tf.global_variables_initializer()\n",
    "    print(y.eval())\n",
    "```\n",
    "\n",
    "\n",
    "TensorFlow programming is essentially a two-step process:\n",
    "\n",
    "1. Assemble constants, variables, and operations into a graph.\n",
    "2. Evaluate those constants, variables and operations within a session.\n"
   ]
  },
  {
   "cell_type": "code",
   "execution_count": 5,
   "metadata": {},
   "outputs": [],
   "source": [
    "import tensorflow as tf"
   ]
  },
  {
   "cell_type": "code",
   "execution_count": 8,
   "metadata": {},
   "outputs": [
    {
     "name": "stdout",
     "output_type": "stream",
     "text": [
      "x + y = 7\n",
      "x + y + z = 12\n"
     ]
    }
   ],
   "source": [
    "g = tf.Graph()\n",
    "\n",
    "# establish the graph as the default one\n",
    "with g.as_default():\n",
    "    x = tf.constant(3, name='x_const')\n",
    "    y = tf.constant(4, name='y_const')\n",
    "    my_sum = tf.add(x, y, name='x_y_sum')\n",
    "    \n",
    "    z = tf.constant(5, name='z_const')\n",
    "    new_sum = tf.add(my_sum, z, name='x_y_z_sum')    \n",
    "    \n",
    "    # now create a session\n",
    "    # this session will run the default graph\n",
    "    with tf.compat.v1.Session() as sess:\n",
    "        print('x + y = {}'.format(my_sum.eval()))\n",
    "        print('x + y + z = {}'.format(new_sum.eval()))"
   ]
  },
  {
   "cell_type": "code",
   "execution_count": null,
   "metadata": {},
   "outputs": [],
   "source": []
  }
 ],
 "metadata": {
  "kernelspec": {
   "display_name": "Python 3",
   "language": "python",
   "name": "python3"
  },
  "language_info": {
   "codemirror_mode": {
    "name": "ipython",
    "version": 3
   },
   "file_extension": ".py",
   "mimetype": "text/x-python",
   "name": "python",
   "nbconvert_exporter": "python",
   "pygments_lexer": "ipython3",
   "version": "3.7.6"
  }
 },
 "nbformat": 4,
 "nbformat_minor": 4
}
